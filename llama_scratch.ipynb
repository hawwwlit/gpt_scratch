{
 "cells": [
  {
   "cell_type": "code",
   "execution_count": 2,
   "metadata": {},
   "outputs": [],
   "source": [
    "import torch\n",
    "from torch import nn\n",
    "from torch.nn import functional as F\n",
    "import numpy as np\n",
    "import pandas as pd\n",
    "import matplotlib.pyplot as plt\n",
    "import time"
   ]
  },
  {
   "cell_type": "code",
   "execution_count": 3,
   "metadata": {},
   "outputs": [],
   "source": [
    "lines = open('input.txt', 'r').read()"
   ]
  },
  {
   "cell_type": "code",
   "execution_count": 4,
   "metadata": {},
   "outputs": [],
   "source": [
    "vocab = sorted(list(set(lines)))"
   ]
  },
  {
   "cell_type": "code",
   "execution_count": 5,
   "metadata": {},
   "outputs": [],
   "source": [
    "itos = {i:ch for i, ch in enumerate(vocab)}\n",
    "stoi = {ch:i for i, ch in enumerate(vocab)}"
   ]
  },
  {
   "cell_type": "markdown",
   "metadata": {},
   "source": [
    "### Character-level tokenizer"
   ]
  },
  {
   "cell_type": "code",
   "execution_count": 8,
   "metadata": {},
   "outputs": [
    {
     "name": "stdout",
     "output_type": "stream",
     "text": [
      "vocab size: 65\n"
     ]
    },
    {
     "data": {
      "text/plain": [
       "'hello'"
      ]
     },
     "execution_count": 8,
     "metadata": {},
     "output_type": "execute_result"
    }
   ],
   "source": [
    "def encode(s):\n",
    "    return [stoi[ch] for ch in s]\n",
    "\n",
    "def decode(l):\n",
    "    return ''.join(itos[i] for i in l)\n",
    "\n",
    "print(f'vocab size: {len(vocab)}')\n",
    "decode(encode('hello'))"
   ]
  },
  {
   "cell_type": "code",
   "execution_count": 10,
   "metadata": {},
   "outputs": [],
   "source": [
    "MASTER_CONFIG = {\n",
    "    'vocab_size': len(vocab),\n",
    "}"
   ]
  },
  {
   "cell_type": "code",
   "execution_count": 11,
   "metadata": {},
   "outputs": [],
   "source": [
    "dataset = torch.tensor(encode(lines), dtype=torch.int8)"
   ]
  },
  {
   "cell_type": "code",
   "execution_count": 13,
   "metadata": {},
   "outputs": [
    {
     "data": {
      "text/plain": [
       "torch.Size([1115394])"
      ]
     },
     "execution_count": 13,
     "metadata": {},
     "output_type": "execute_result"
    }
   ],
   "source": [
    "dataset.shape  # 1115394 rows"
   ]
  },
  {
   "cell_type": "code",
   "execution_count": 14,
   "metadata": {},
   "outputs": [],
   "source": [
    "train = dataset[:int(len(dataset)*0.8)]"
   ]
  },
  {
   "cell_type": "code",
   "execution_count": 15,
   "metadata": {},
   "outputs": [],
   "source": [
    "batch_data = train"
   ]
  },
  {
   "cell_type": "code",
   "execution_count": 22,
   "metadata": {},
   "outputs": [],
   "source": [
    "batch_size, context_window = 8, 16 \n",
    "ix = torch.randint(0, len(batch_data) - context_window + 1, (batch_size,))"
   ]
  },
  {
   "cell_type": "code",
   "execution_count": 25,
   "metadata": {},
   "outputs": [],
   "source": [
    "x = [batch_data[i:i+context_window] for i in ix]"
   ]
  },
  {
   "cell_type": "code",
   "execution_count": 26,
   "metadata": {},
   "outputs": [
    {
     "data": {
      "text/plain": [
       "[tensor([46, 43, 52,  1, 46, 43,  1, 46, 39, 42,  1, 41, 39, 56, 56, 47],\n",
       "        dtype=torch.int8),\n",
       " tensor([50, 50,  1, 54, 39, 56, 42, 53, 52,  1, 51, 43,  8,  0,  0, 16],\n",
       "        dtype=torch.int8),\n",
       " tensor([39, 58, 46, 43, 56,  1, 40, 59, 58,  1, 58, 46, 43,  1, 57, 53],\n",
       "        dtype=torch.int8),\n",
       " tensor([30, 21, 27, 24, 13, 26, 33, 31, 10,  0, 35, 43, 50, 50,  6,  1],\n",
       "        dtype=torch.int8),\n",
       " tensor([57, 54, 39, 56, 43,  1, 58, 53,  1, 45, 47, 56, 42,  1, 58, 46],\n",
       "        dtype=torch.int8),\n",
       " tensor([ 1, 58, 53, 61, 39, 56, 42,  1, 17, 52, 45, 50, 39, 52, 42,  6],\n",
       "        dtype=torch.int8),\n",
       " tensor([61, 53, 56, 43,  1, 41, 53, 52, 57, 43, 52, 58,  1, 58, 53,  1],\n",
       "        dtype=torch.int8),\n",
       " tensor([ 1, 42, 43, 52, 63,  1, 58, 53,  1, 46, 47, 51,  1, 58, 46, 39],\n",
       "        dtype=torch.int8)]"
      ]
     },
     "execution_count": 26,
     "metadata": {},
     "output_type": "execute_result"
    }
   ],
   "source": [
    "x "
   ]
  },
  {
   "cell_type": "code",
   "execution_count": 29,
   "metadata": {},
   "outputs": [
    {
     "data": {
      "text/plain": [
       "tensor([[46, 43, 52,  1, 46, 43,  1, 46, 39, 42,  1, 41, 39, 56, 56, 47],\n",
       "        [50, 50,  1, 54, 39, 56, 42, 53, 52,  1, 51, 43,  8,  0,  0, 16],\n",
       "        [39, 58, 46, 43, 56,  1, 40, 59, 58,  1, 58, 46, 43,  1, 57, 53],\n",
       "        [30, 21, 27, 24, 13, 26, 33, 31, 10,  0, 35, 43, 50, 50,  6,  1],\n",
       "        [57, 54, 39, 56, 43,  1, 58, 53,  1, 45, 47, 56, 42,  1, 58, 46],\n",
       "        [ 1, 58, 53, 61, 39, 56, 42,  1, 17, 52, 45, 50, 39, 52, 42,  6],\n",
       "        [61, 53, 56, 43,  1, 41, 53, 52, 57, 43, 52, 58,  1, 58, 53,  1],\n",
       "        [ 1, 42, 43, 52, 63,  1, 58, 53,  1, 46, 47, 51,  1, 58, 46, 39]],\n",
       "       dtype=torch.int8)"
      ]
     },
     "execution_count": 29,
     "metadata": {},
     "output_type": "execute_result"
    }
   ],
   "source": [
    "torch.stack(x).long()"
   ]
  },
  {
   "cell_type": "code",
   "execution_count": 32,
   "metadata": {},
   "outputs": [],
   "source": [
    "def get_one_batch(data, split, config=MASTER_CONFIG):\n",
    "    batch_size, context_window = config['batch_size'], config['context_window']\n",
    "    train = data[:int(.8*len(data))]\n",
    "    val = data[int(.8*len(data)): int(.9*len(data))]\n",
    "    test = data[int(.9*len(data)):]\n",
    "\n",
    "    batch_data = train\n",
    "    if split == 'val':\n",
    "        batch_data = val\n",
    "    if split == 'test':\n",
    "        batch_data = test\n",
    "    \n",
    "    ix = torch.randint(0, len(batch_data) - context_window, (batch_size,))\n",
    "    x = torch.stack([batch_data[i:i+context_window] for i in ix]).long()\n",
    "    y = torch.stack([batch_data[i+1:i+context_window+1] for i in ix]).long()\n",
    "\n",
    "    return x, y\n",
    "\n",
    "MASTER_CONFIG.update({\n",
    "    \"batch_size\": 8,\n",
    "    \"context_window\": 16\n",
    "})"
   ]
  },
  {
   "cell_type": "code",
   "execution_count": 33,
   "metadata": {},
   "outputs": [],
   "source": [
    "xs, ys = get_one_batch(dataset, 'train')"
   ]
  },
  {
   "cell_type": "code",
   "execution_count": 37,
   "metadata": {},
   "outputs": [
    {
     "data": {
      "text/plain": [
       "[(\" seat o' the bra\", \"seat o' the brai\"),\n",
       " (\"od, 'tis shame s\", \"d, 'tis shame su\"),\n",
       " (' not delay the p', 'not delay the pr'),\n",
       " ('s, disdains the ', ', disdains the s'),\n",
       " (' I now must make', 'I now must make '),\n",
       " ('th me: it will i', 'h me: it will in'),\n",
       " ('ean to take poss', 'an to take posse'),\n",
       " (' your father gro', 'your father grow')]"
      ]
     },
     "execution_count": 37,
     "metadata": {},
     "output_type": "execute_result"
    }
   ],
   "source": [
    "[(decode(xs[i].tolist()), decode(ys[i].tolist())) for i in range(len(xs))]"
   ]
  },
  {
   "cell_type": "code",
   "execution_count": 60,
   "metadata": {},
   "outputs": [],
   "source": [
    "@torch.no_grad\n",
    "def evaluate_loss(model, config=MASTER_CONFIG):\n",
    "    out = {}\n",
    "    model.eval()\n",
    "    for split in ['train', 'val']:\n",
    "        losses = []\n",
    "        for _ in range(10):\n",
    "            xb, yb = get_one_batch(dataset, split, config=config)\n",
    "            _, loss = model(xb, yb)\n",
    "            losses.append(loss.item())\n",
    "        out[split] = np.mean(losses)\n",
    "\n",
    "    model.train()\n",
    "    return out"
   ]
  },
  {
   "cell_type": "code",
   "execution_count": 66,
   "metadata": {},
   "outputs": [],
   "source": [
    "class SimpleModel(nn.Module):\n",
    "    def __init__(self, config=MASTER_CONFIG):\n",
    "        super().__init__()\n",
    "        self.vocab_size, self.d_model = config['vocab_size'], config['d_model']\n",
    "\n",
    "        self.embedding = nn.Embedding(self.vocab_size, self.d_model)\n",
    "        self.linear = nn.Sequential(\n",
    "            nn.Linear(self.d_model, self.d_model),\n",
    "            nn.ReLU(),\n",
    "            nn.Linear(self.d_model, self.vocab_size)\n",
    "        )\n",
    "\n",
    "        print(f\"total model params: {sum([m.numel() for m in self.parameters()])}\")\n",
    "    \n",
    "    def forward(self, ix, targets=None):\n",
    "        \"\"\"\n",
    "        Shape of ix (batch_size, seq_len)\n",
    "        Shape of x (batch_size, seq_len, d_model)\n",
    "        Shape of logits (batch_size, seq_len, vocab_size)\n",
    "        \"\"\"\n",
    "        x = self.embedding(ix)\n",
    "        logits = self.linear(x)\n",
    "        # logits = F.softmax(a, dim=-1)\n",
    "\n",
    "        if targets is not None:\n",
    "            # logits dim is batch_size * context_window * num_class\n",
    "            # targets dim is batch_size * context_window. It gives (batch_size * context_window) labels.\n",
    "            loss = F.cross_entropy(logits.view(-1, self.vocab_size), targets.view(-1))\n",
    "            return logits, loss\n",
    "        else:\n",
    "            return logits"
   ]
  },
  {
   "cell_type": "code",
   "execution_count": null,
   "metadata": {},
   "outputs": [],
   "source": [
    "MASTER_CONFIG.update({\n",
    "    'd_model': 128\n",
    "})\n",
    "model = SimpleModel(config=MASTER_CONFIG)\n",
    "xs, ys = get_one_batch(dataset, 'train', MASTER_CONFIG)\n",
    "logits, loss = model(xs, ys)"
   ]
  },
  {
   "cell_type": "code",
   "execution_count": 192,
   "metadata": {},
   "outputs": [
    {
     "data": {
      "text/plain": [
       "torch.Size([32, 16])"
      ]
     },
     "execution_count": 192,
     "metadata": {},
     "output_type": "execute_result"
    }
   ],
   "source": [
    "xs.shape"
   ]
  },
  {
   "cell_type": "code",
   "execution_count": 68,
   "metadata": {},
   "outputs": [
    {
     "name": "stdout",
     "output_type": "stream",
     "text": [
      "total model params: 33217\n"
     ]
    }
   ],
   "source": [
    "MASTER_CONFIG.update({\n",
    "    'epochs': 1000,\n",
    "    'log_interval': 100,\n",
    "    'batch_size': 32\n",
    "})\n",
    "model = SimpleModel(config=MASTER_CONFIG)\n",
    "optimizer = torch.optim.AdamW(params=model.parameters())\n",
    "\n",
    "def train(model: SimpleModel, optimizer: torch.optim, scheduler=None, config=MASTER_CONFIG, print_logs=False):\n",
    "    start_time = time.time()\n",
    "    losses = []\n",
    "    for epoch in range(config['epochs']):\n",
    "        optimizer.zero_grad()\n",
    "        xs, ys = get_one_batch(dataset, 'train', config=config)\n",
    "        logits, loss = model(xs, targets=ys)\n",
    "        loss.backward()\n",
    "        optimizer.step()\n",
    "\n",
    "        if scheduler:\n",
    "            scheduler.step()\n",
    "        \n",
    "        if epoch % config['log_interval'] == 0:\n",
    "            interval_time = time.time() - start_time\n",
    "            x = evaluate_loss(model)\n",
    "            losses += [x]\n",
    "        \n",
    "            if print_logs:\n",
    "                print(f\"Epoch: {epoch} | val loss: {x['val']:.3f} | train loss: {x['train']:.3f} | time {interval_time:.3f} | ETA in seconds {interval_time * (config['epochs'] - epoch) / config['log_interval'] :.3f}\")\n",
    "            start_time = time.time()\n",
    "\n",
    "            if scheduler:\n",
    "                print(f\"lr: {scheduler.get_lr()}\")\n",
    "            \n",
    "    print(f\"validation loss: {losses[-1]['val']}\")\n",
    "    return pd.DataFrame(losses)"
   ]
  },
  {
   "cell_type": "code",
   "execution_count": 69,
   "metadata": {},
   "outputs": [
    {
     "name": "stdout",
     "output_type": "stream",
     "text": [
      "Epoch: 0 | val loss: 4.159 | train loss: 4.157 | time 0.005 | ETA in seconds 0.048\n",
      "Epoch: 100 | val loss: 2.662 | train loss: 2.605 | time 0.178 | ETA in seconds 1.598\n",
      "Epoch: 200 | val loss: 2.556 | train loss: 2.534 | time 0.145 | ETA in seconds 1.157\n",
      "Epoch: 300 | val loss: 2.536 | train loss: 2.498 | time 0.132 | ETA in seconds 0.927\n",
      "Epoch: 400 | val loss: 2.520 | train loss: 2.491 | time 0.139 | ETA in seconds 0.832\n",
      "Epoch: 500 | val loss: 2.557 | train loss: 2.478 | time 0.158 | ETA in seconds 0.790\n",
      "Epoch: 600 | val loss: 2.527 | train loss: 2.485 | time 0.154 | ETA in seconds 0.617\n",
      "Epoch: 700 | val loss: 2.496 | train loss: 2.469 | time 0.148 | ETA in seconds 0.443\n",
      "Epoch: 800 | val loss: 2.495 | train loss: 2.479 | time 0.155 | ETA in seconds 0.310\n",
      "Epoch: 900 | val loss: 2.502 | train loss: 2.469 | time 0.150 | ETA in seconds 0.150\n",
      "validation loss: 2.50212562084198\n"
     ]
    }
   ],
   "source": [
    "losses = train(model, optimizer, print_logs=True)"
   ]
  },
  {
   "cell_type": "code",
   "execution_count": 70,
   "metadata": {},
   "outputs": [
    {
     "data": {
      "text/plain": [
       "<Axes: >"
      ]
     },
     "execution_count": 70,
     "metadata": {},
     "output_type": "execute_result"
    },
    {
     "data": {
      "image/png": "[encoded data removed]",
      "text/plain": [
       "<Figure size 640x480 with 1 Axes>"
      ]
     },
     "metadata": {},
     "output_type": "display_data"
    }
   ],
   "source": [
    "losses.plot()"
   ]
  },
  {
   "cell_type": "code",
   "execution_count": 158,
   "metadata": {},
   "outputs": [],
   "source": [
    "def generate(model, config=MASTER_CONFIG, max_tokens=32):\n",
    "    idx = torch.zeros(5, 1).long()\n",
    "    for _ in range(max_tokens):\n",
    "        logits = model(idx[:, -config['context_window']:])\n",
    "        last_time_step = logits[:, -1, :]\n",
    "        p = F.softmax(last_time_step, dim=-1)\n",
    "        idx_next = torch.multinomial(p, num_samples=1)\n",
    "        idx = torch.cat([idx, idx_next], dim=-1)\n",
    "    return [decode(x) for x in idx.tolist()]"
   ]
  },
  {
   "cell_type": "code",
   "execution_count": 161,
   "metadata": {},
   "outputs": [
    {
     "name": "stdout",
     "output_type": "stream",
     "text": [
      "\n",
      "Wis bll!\n",
      "S: HELINRoner s f ith d\n",
      "\n",
      "MI t tuthat w.\n",
      "iecon Of h.\n",
      "Wat I\n",
      "\n",
      "D thaw'ds thethanny; this the th\n",
      "\n",
      "\n",
      "\n",
      "AF y.\n",
      "TUSu be m houls ou d t d\n",
      "\n",
      "Tyblave om tie farfoorhitousutad\n"
     ]
    }
   ],
   "source": [
    "outputs = generate(model)\n",
    "for out in outputs:\n",
    "    print(out)"
   ]
  },
  {
   "cell_type": "code",
   "execution_count": 155,
   "metadata": {},
   "outputs": [],
   "source": [
    "config = MASTER_CONFIG\n",
    "logits = model(idx[:, -config['context_window']:])"
   ]
  },
  {
   "cell_type": "code",
   "execution_count": 76,
   "metadata": {},
   "outputs": [],
   "source": [
    "last_time_step_logits = logits[\n",
    "    :, -1, :\n",
    "]  # all the batches (1), last time step, all the logits\n",
    "p = F.softmax(last_time_step_logits, dim=-1)"
   ]
  },
  {
   "cell_type": "code",
   "execution_count": 89,
   "metadata": {},
   "outputs": [
    {
     "data": {
      "text/plain": [
       "tensor([[14],\n",
       "        [15],\n",
       "        [33],\n",
       "        [ 0],\n",
       "        [19]])"
      ]
     },
     "execution_count": 89,
     "metadata": {},
     "output_type": "execute_result"
    }
   ],
   "source": [
    "torch.multinomial(\n",
    "    p, num_samples=1\n",
    ")  # sample from the distribution to get the next token"
   ]
  },
  {
   "cell_type": "code",
   "execution_count": 95,
   "metadata": {},
   "outputs": [
    {
     "data": {
      "text/plain": [
       "tensor(0.0163, grad_fn=<SelectBackward0>)"
      ]
     },
     "execution_count": 95,
     "metadata": {},
     "output_type": "execute_result"
    }
   ],
   "source": [
    "p[0][19]"
   ]
  },
  {
   "cell_type": "code",
   "execution_count": 137,
   "metadata": {},
   "outputs": [
    {
     "data": {
      "text/plain": [
       "tensor([0, 1])"
      ]
     },
     "execution_count": 137,
     "metadata": {},
     "output_type": "execute_result"
    }
   ],
   "source": [
    "p = torch.tensor([0.7, 0.3, 0.0], dtype=torch.float)\n",
    "torch.multinomial(p, 2)"
   ]
  },
  {
   "cell_type": "code",
   "execution_count": 147,
   "metadata": {},
   "outputs": [
    {
     "data": {
      "text/plain": [
       "tensor([[[ 0, 13]],\n",
       "\n",
       "        [[ 0, 31]],\n",
       "\n",
       "        [[ 0, 32]],\n",
       "\n",
       "        [[ 0, 21]],\n",
       "\n",
       "        [[ 0, 32]]])"
      ]
     },
     "execution_count": 147,
     "metadata": {},
     "output_type": "execute_result"
    }
   ],
   "source": [
    "torch.stack([idx, idx_next], dim=-1)"
   ]
  },
  {
   "cell_type": "code",
   "execution_count": 148,
   "metadata": {},
   "outputs": [
    {
     "data": {
      "text/plain": [
       "torch.Size([5, 1, 2])"
      ]
     },
     "execution_count": 148,
     "metadata": {},
     "output_type": "execute_result"
    }
   ],
   "source": [
    "torch.stack([idx, idx_next], dim=-1).shape"
   ]
  },
  {
   "cell_type": "code",
   "execution_count": 156,
   "metadata": {},
   "outputs": [],
   "source": [
    "idx = torch.cat([idx, idx_next], dim=-1)"
   ]
  },
  {
   "cell_type": "code",
   "execution_count": 151,
   "metadata": {},
   "outputs": [
    {
     "data": {
      "text/plain": [
       "torch.Size([5, 2])"
      ]
     },
     "execution_count": 151,
     "metadata": {},
     "output_type": "execute_result"
    }
   ],
   "source": [
    "torch.cat([idx, idx_next], dim=-1).shape"
   ]
  },
  {
   "cell_type": "code",
   "execution_count": 157,
   "metadata": {},
   "outputs": [
    {
     "data": {
      "text/plain": [
       "[[0, 13], [0, 31], [0, 32], [0, 21], [0, 32]]"
      ]
     },
     "execution_count": 157,
     "metadata": {},
     "output_type": "execute_result"
    }
   ],
   "source": [
    "idx.tolist()"
   ]
  },
  {
   "cell_type": "markdown",
   "metadata": {},
   "source": [
    "### RMS Norm"
   ]
  },
  {
   "cell_type": "code",
   "execution_count": 169,
   "metadata": {},
   "outputs": [],
   "source": [
    "x = torch.randint(0, 5, (5, 3, 4)).float()"
   ]
  },
  {
   "cell_type": "code",
   "execution_count": 175,
   "metadata": {},
   "outputs": [],
   "source": [
    "ff_rms = torch.linalg.norm(x, dim=(1,2)) * x[0].numel() ** -.5"
   ]
  },
  {
   "cell_type": "code",
   "execution_count": 176,
   "metadata": {},
   "outputs": [
    {
     "data": {
      "text/plain": [
       "tensor([[[1., 4., 0., 2.],\n",
       "         [1., 3., 1., 3.],\n",
       "         [0., 0., 1., 2.]],\n",
       "\n",
       "        [[1., 4., 3., 2.],\n",
       "         [0., 1., 4., 0.],\n",
       "         [3., 2., 1., 0.]],\n",
       "\n",
       "        [[3., 1., 0., 4.],\n",
       "         [2., 4., 3., 2.],\n",
       "         [0., 0., 0., 4.]],\n",
       "\n",
       "        [[1., 3., 3., 3.],\n",
       "         [3., 3., 0., 2.],\n",
       "         [3., 2., 3., 0.]],\n",
       "\n",
       "        [[3., 3., 0., 2.],\n",
       "         [1., 0., 4., 3.],\n",
       "         [0., 1., 3., 1.]]])"
      ]
     },
     "execution_count": 176,
     "metadata": {},
     "output_type": "execute_result"
    }
   ],
   "source": [
    "x"
   ]
  },
  {
   "cell_type": "code",
   "execution_count": 177,
   "metadata": {},
   "outputs": [
    {
     "data": {
      "text/plain": [
       "tensor([1.9579, 2.2546, 2.5000, 2.4495, 2.2174])"
      ]
     },
     "execution_count": 177,
     "metadata": {},
     "output_type": "execute_result"
    }
   ],
   "source": [
    "ff_rms"
   ]
  },
  {
   "cell_type": "code",
   "execution_count": 178,
   "metadata": {},
   "outputs": [
    {
     "data": {
      "text/plain": [
       "tensor([[[0.5108, 2.0430, 0.0000, 1.0215],\n",
       "         [0.5108, 1.5323, 0.5108, 1.5323],\n",
       "         [0.0000, 0.0000, 0.5108, 1.0215]],\n",
       "\n",
       "        [[0.4435, 1.7741, 1.3306, 0.8871],\n",
       "         [0.0000, 0.4435, 1.7741, 0.0000],\n",
       "         [1.3306, 0.8871, 0.4435, 0.0000]],\n",
       "\n",
       "        [[1.2000, 0.4000, 0.0000, 1.6000],\n",
       "         [0.8000, 1.6000, 1.2000, 0.8000],\n",
       "         [0.0000, 0.0000, 0.0000, 1.6000]],\n",
       "\n",
       "        [[0.4082, 1.2247, 1.2247, 1.2247],\n",
       "         [1.2247, 1.2247, 0.0000, 0.8165],\n",
       "         [1.2247, 0.8165, 1.2247, 0.0000]],\n",
       "\n",
       "        [[1.3530, 1.3530, 0.0000, 0.9020],\n",
       "         [0.4510, 0.0000, 1.8040, 1.3530],\n",
       "         [0.0000, 0.4510, 1.3530, 0.4510]]])"
      ]
     },
     "execution_count": 178,
     "metadata": {},
     "output_type": "execute_result"
    }
   ],
   "source": [
    "x / ff_rms.unsqueeze(-1).unsqueeze(-1)"
   ]
  },
  {
   "cell_type": "code",
   "execution_count": 202,
   "metadata": {},
   "outputs": [],
   "source": [
    "class RMSNorm(nn.Module):\n",
    "    def __init__(self, layer_shape):\n",
    "        # layer_shape is (seq_len, d_model)\n",
    "        # the scaling factor is applied to all batches\n",
    "        super().__init__()\n",
    "        self.register_parameter(\"scale\", nn.Parameter(torch.ones(layer_shape)))\n",
    "    \n",
    "    def forward(self, x):\n",
    "        \"\"\"\n",
    "        Shape of x is (batch_size, seq_len, d_model)\n",
    "        \"\"\"\n",
    "        ff_rms = torch.linalg.norm(x, dim=(1,2)) * x[0].numel() ** -.5\n",
    "        raw = x / ff_rms.unsqueeze(-1).unsqueeze(-1)\n",
    "        return self.scale[:x.shape[1], :].unsqueeze(0) * raw"
   ]
  },
  {
   "cell_type": "code",
   "execution_count": 180,
   "metadata": {},
   "outputs": [],
   "source": [
    "config = {\n",
    "    'batch_size': 5,\n",
    "    'context_window': 11,\n",
    "    'd_model': 13,\n",
    "}\n",
    "batch = torch.randn((config['batch_size'], config['context_window'], config['d_model']))"
   ]
  },
  {
   "cell_type": "code",
   "execution_count": 184,
   "metadata": {},
   "outputs": [],
   "source": [
    "ff_rms = torch.linalg.norm(batch, dim=(1,2)) * batch[0].numel() ** -.5"
   ]
  },
  {
   "cell_type": "code",
   "execution_count": 185,
   "metadata": {},
   "outputs": [
    {
     "data": {
      "text/plain": [
       "tensor([[ 1.3443e-01, -2.9638e-01, -1.3977e+00,  1.3963e+00, -2.0000e+00,\n",
       "         -5.9304e-01,  4.3997e-01,  1.5740e+00, -9.7514e-03, -4.8573e-01,\n",
       "         -1.3366e+00,  4.9036e-01, -8.8915e-01],\n",
       "        [ 4.0329e-02,  1.0306e+00,  4.4480e-01,  6.1821e-01,  1.3803e+00,\n",
       "          1.2451e-01,  9.3954e-01, -1.2167e+00, -2.6760e-01,  2.8509e-02,\n",
       "          1.0370e+00,  1.0954e-01,  2.0873e+00],\n",
       "        [ 1.0333e+00,  5.0350e-02, -4.7132e-01, -1.2846e+00,  1.4021e-01,\n",
       "         -2.1505e+00, -1.1941e+00,  6.1587e-02, -2.1502e-01,  4.6562e-01,\n",
       "          4.2275e-01,  6.5392e-01,  1.1359e+00],\n",
       "        [-8.3041e-01, -1.3419e+00, -3.0656e-01, -7.0560e-01,  4.3351e-01,\n",
       "          1.3750e-01,  7.0363e-01, -9.7270e-01, -4.5540e-01,  1.8967e+00,\n",
       "          9.2095e-01, -8.7178e-01, -2.6706e+00],\n",
       "        [ 6.8348e-01, -2.0438e+00,  8.3791e-01, -1.2727e-01,  1.1058e+00,\n",
       "          7.4353e-01,  1.4335e+00, -1.7884e-01,  1.0324e+00,  1.1913e+00,\n",
       "          9.0102e-01,  6.5475e-01,  2.3049e-01],\n",
       "        [ 6.9450e-01,  3.8067e-01, -1.3198e+00, -4.2329e-01,  5.2963e-01,\n",
       "          6.9417e-01, -1.7767e+00, -1.5846e+00, -4.5092e-01,  9.1932e-01,\n",
       "          1.9436e+00, -4.2273e-01, -4.8755e-01],\n",
       "        [-1.4205e+00,  1.4436e+00,  4.4497e-01,  5.2579e-01, -3.5548e-01,\n",
       "         -6.0830e-01, -4.5617e-01,  6.6277e-01,  7.1432e-02,  4.8039e-01,\n",
       "         -2.1280e+00,  1.0565e+00, -3.0319e+00],\n",
       "        [-4.6861e-01, -1.0807e+00, -5.2214e-01,  2.6085e+00,  1.9286e+00,\n",
       "          1.3988e+00, -9.1000e-01, -4.6411e-01,  8.8412e-01, -5.3809e-01,\n",
       "         -3.1891e-01, -4.6716e-01, -3.2468e-01],\n",
       "        [-1.6592e-01,  6.9728e-01, -4.8713e-01,  1.3474e-01,  5.7646e-01,\n",
       "          3.1155e-01,  6.9474e-01, -3.7563e-02,  2.1103e-01,  1.1025e-01,\n",
       "         -1.5153e+00,  8.0937e-01,  8.8261e-01],\n",
       "        [-9.1174e-01,  6.5948e-01, -5.7444e-01,  4.2866e-01, -2.3327e-01,\n",
       "         -2.0961e-01,  3.1532e-01, -1.0607e-02, -5.2912e-01, -9.4227e-01,\n",
       "         -4.5217e-02,  2.1022e+00, -1.3610e+00],\n",
       "        [ 1.1648e+00,  1.9411e+00,  2.2629e-01, -3.1848e-01,  2.8202e-02,\n",
       "         -1.7498e-02, -2.3440e-01, -4.9728e-01, -7.1033e-01,  4.2663e-01,\n",
       "          1.7495e+00, -6.8880e-04,  3.2350e-01]])"
      ]
     },
     "execution_count": 185,
     "metadata": {},
     "output_type": "execute_result"
    }
   ],
   "source": [
    "# for one batch, unsqueeze is not needed. \n",
    "batch[0] / ff_rms[0]"
   ]
  },
  {
   "cell_type": "code",
   "execution_count": 206,
   "metadata": {},
   "outputs": [
    {
     "name": "stdout",
     "output_type": "stream",
     "text": [
      "model params: 35265\n",
      "Epoch: 0 | val loss: 4.129 | train loss: 4.122 | time 0.003 | ETA in seconds 0.027\n",
      "Epoch: 100 | val loss: 2.637 | train loss: 2.597 | time 0.200 | ETA in seconds 1.801\n",
      "Epoch: 200 | val loss: 2.554 | train loss: 2.515 | time 0.184 | ETA in seconds 1.475\n",
      "Epoch: 300 | val loss: 2.547 | train loss: 2.487 | time 0.191 | ETA in seconds 1.335\n",
      "Epoch: 400 | val loss: 2.537 | train loss: 2.475 | time 0.217 | ETA in seconds 1.301\n",
      "Epoch: 500 | val loss: 2.523 | train loss: 2.501 | time 0.212 | ETA in seconds 1.062\n",
      "Epoch: 600 | val loss: 2.541 | train loss: 2.470 | time 0.206 | ETA in seconds 0.823\n",
      "Epoch: 700 | val loss: 2.511 | train loss: 2.487 | time 0.196 | ETA in seconds 0.589\n",
      "Epoch: 800 | val loss: 2.524 | train loss: 2.456 | time 0.207 | ETA in seconds 0.414\n",
      "Epoch: 900 | val loss: 2.527 | train loss: 2.490 | time 0.204 | ETA in seconds 0.204\n",
      "validation loss: 2.527190065383911\n"
     ]
    },
    {
     "data": {
      "text/plain": [
       "<Axes: >"
      ]
     },
     "execution_count": 206,
     "metadata": {},
     "output_type": "execute_result"
    },
    {
     "data": {
      "image/png": "[encoded data removed]",
      "text/plain": [
       "<Figure size 640x480 with 1 Axes>"
      ]
     },
     "metadata": {},
     "output_type": "display_data"
    }
   ],
   "source": [
    "class SimpleModel_RMS(nn.Module):\n",
    "    def __init__(self, config=MASTER_CONFIG):\n",
    "        super().__init__()\n",
    "        self.batch_size, self.context_window, self.d_model, self.vocab_size = config['batch_size'], config['context_window'], config['d_model'], config['vocab_size']\n",
    "        \n",
    "        # in: (batch_size, seq_len), out: (batch_size, seq_len, d_model)\n",
    "        self.embedding = nn.Embedding(self.vocab_size, self.d_model)\n",
    "        # in: (batch_size, seq_len, d_model), out: (batch_size, seq_len, d_model)\n",
    "        self.rms = RMSNorm((self.context_window, self.d_model))\n",
    "        # in: (batch_size, seq_len, d_model), out: (batch_size, seq_len, vocab_size)\n",
    "        self.linear = nn.Sequential(\n",
    "            nn.Linear(self.d_model ,self.d_model),\n",
    "            nn.ReLU(),\n",
    "            nn.Linear(self.d_model, self.vocab_size)\n",
    "        )\n",
    "\n",
    "        print(f\"model params: {sum(m.numel() for m in self.parameters())}\")\n",
    "    \n",
    "    def forward(self, ix, targets=None):\n",
    "        x = self.embedding(ix)\n",
    "        x = self.rms(x)\n",
    "        logits = self.linear(x)\n",
    "\n",
    "        if targets != None:\n",
    "            loss = F.cross_entropy(logits.view(-1, self.vocab_size), targets.view(-1))\n",
    "            return logits, loss\n",
    "        else:\n",
    "            return logits\n",
    "\n",
    "model = SimpleModel_RMS(MASTER_CONFIG)\n",
    "xs, ys = get_one_batch(dataset, 'train', config=MASTER_CONFIG)\n",
    "\n",
    "logits, loss = model(xs, ys)\n",
    "optimizer = torch.optim.AdamW(model.parameters())\n",
    "losses = train(model, optimizer, print_logs=True)\n",
    "losses.plot()\n"
   ]
  },
  {
   "cell_type": "code",
   "execution_count": 211,
   "metadata": {},
   "outputs": [],
   "source": [
    "def get_rotary_matrix(context_window, embedding_dim):\n",
    "    R = torch.zeros((context_window, embedding_dim, embedding_dim), requires_grad=False)\n",
    "\n",
    "    for position in range(context_window):\n",
    "        for i in range(embedding_dim // 2):\n",
    "            theta = 10000 ** (-2.*(i-1) / embedding_dim)\n",
    "            m_theta = position * theta\n",
    "            R[position, 2*i, 2*i] = np.cos(m_theta)\n",
    "            R[position, 2*i, 2*i+1] = -np.sin(m_theta)\n",
    "            R[position, 2*i+1, 2*i] = np.sin(m_theta)\n",
    "            R[position, 2*i+1, 2*i+1] = np.cos(m_theta)\n",
    "    return R"
   ]
  },
  {
   "cell_type": "code",
   "execution_count": 309,
   "metadata": {},
   "outputs": [
    {
     "data": {
      "image/png": "[encoded data removed]",
      "text/plain": [
       "<Figure size 1800x1200 with 18 Axes>"
      ]
     },
     "metadata": {},
     "output_type": "display_data"
    }
   ],
   "source": [
    "K = 3\n",
    "context_window, embedding_dim = K ** 2, 16\n",
    "R = get_rotary_matrix(context_window, embedding_dim)\n",
    "fig, ax = plt.subplots(K, K, figsize=(K*6, K*4))\n",
    "\n",
    "for i in range(K):\n",
    "    for j in range(K):\n",
    "        # plt.imshow(R[i*K+j,:,:].detach().numpy(), interpolation='nearest')\n",
    "        cax = ax[i, j].imshow(R[i*K+j,:,:].detach().numpy(), interpolation='nearest', cmap='viridis')\n",
    "        fig.colorbar(cax, ax=ax[i,j])\n",
    "        ax[i, j].set_title(f\"rotation at {i*K+j}\")\n",
    "        # plt.colorbar()\n",
    "# plt.imshow(im, interpolation='nearest')\n",
    "fig.tight_layout()\n",
    "plt.show()"
   ]
  },
  {
   "cell_type": "code",
   "execution_count": 240,
   "metadata": {},
   "outputs": [],
   "source": [
    "x_n, x_m = torch.randn(embedding_dim), torch.randn(embedding_dim)  # Shape is [embedding_dim], not [embedding_dim, 1]\n",
    "m, n = 2, 6\n",
    "\n",
    "assert torch.isclose((R[m,:,:] @ x_m) @ (R[n,:,:] @ x_n), x_m @ R[n-m,:,:] @ x_n)"
   ]
  },
  {
   "cell_type": "code",
   "execution_count": 251,
   "metadata": {},
   "outputs": [],
   "source": [
    "config.update({\n",
    "    'batch_size': 1,\n",
    "    'context_window': 2,\n",
    "    'd_model': 4\n",
    "})"
   ]
  },
  {
   "cell_type": "code",
   "execution_count": 252,
   "metadata": {},
   "outputs": [],
   "source": [
    "x = torch.randn((config['batch_size'], config['context_window'], config['d_model']))"
   ]
  },
  {
   "cell_type": "code",
   "execution_count": 253,
   "metadata": {},
   "outputs": [
    {
     "data": {
      "text/plain": [
       "torch.Size([1, 2, 4])"
      ]
     },
     "execution_count": 253,
     "metadata": {},
     "output_type": "execute_result"
    }
   ],
   "source": [
    "x.shape"
   ]
  },
  {
   "cell_type": "code",
   "execution_count": 336,
   "metadata": {},
   "outputs": [],
   "source": [
    "class RoPEMaskedAttentionHead(nn.Module):\n",
    "    def __init__(self, config):\n",
    "        super().__init__()\n",
    "        self.config = config\n",
    "        self.w_q = nn.Linear(config['d_model'], config['d_model'], bias=False)\n",
    "        self.w_k = nn.Linear(config['d_model'], config['d_model'], bias=False)\n",
    "        self.w_v = nn.Linear(config['d_model'], config['d_model'], bias=False)\n",
    "\n",
    "        # Shape (seq_len, d_model, d_model)\n",
    "        self.R = get_rotary_matrix(config['context_window'], config['d_model'])\n",
    "\n",
    "    def forward(self, x, return_attn_weights=False):\n",
    "        # Shape (batch_size, seq_len, d_model)\n",
    "        q, k, v = self.w_q(x), self.w_k(x), self.w_v(x)\n",
    "\n",
    "        \"\"\"\n",
    "        q.transpose(0, 1) @ self.R[x.shape[1]:], output Shape is (seq_len, batch_size, d_model)\n",
    "        in this scenario, position can be considered as \"batch\", for a fixed position, the rotary matrix is the same\n",
    "        in dimension 1, 2, for each vector, we apply rotary matrix to it, for batch_size vectors\n",
    "        \"\"\"\n",
    "        q_rotated = (q.transpose(0, 1) @ self.R[:x.shape[1]]).transpose(0,1)         # Shape (batch_size, seq_len, d_model)\n",
    "        k_rotated = (k.transpose(0, 1) @ self.R[:x.shape[1]]).transpose(0,1)\n",
    "\n",
    "        activations = F.scaled_dot_product_attention(q_rotated, k_rotated, v, dropout_p=.1, is_causal=True)\n",
    "\n",
    "        if return_attn_weights:\n",
    "            attn_mask = torch.tril(torch.ones(x.shape[1], x.shape[1]), diagonal=0)\n",
    "            # Attn Matrix Shape is (batch_size, seq_len, seq_len)\n",
    "            \"\"\"\n",
    "            This addition masking approach can work because we normalized the embedding (input to the attn layer) so that it's always between (0,1)\n",
    "            \"\"\"\n",
    "            attn_weights = torch.bmm(q_rotated, k_rotated.transpose(1,2)) / np.sqrt(x.shape[-1]) + attn_mask  # Shape (batch_size, seq_len, seq_len)\n",
    "            print(attn_weights)\n",
    "            print(torch.bmm(q_rotated, k_rotated.transpose(1,2)) / np.sqrt(x.shape[-1]))\n",
    "\n",
    "            attn_weights = F.softmax(attn_weights, dim=-1)\n",
    "            raw_attn_weights = F.softmax(torch.bmm(q_rotated, k_rotated.transpose(1,2)) / np.sqrt(x.shape[-1]), dim=-1)\n",
    "            # print(attn_weights)\n",
    "            return activations, attn_weights, raw_attn_weights\n",
    "        else:\n",
    "            return activations\n",
    "\n",
    "# layer = RoPEMaskedAttentionHead(config=config)\n",
    "# batch = torch.randn((config['batch_size'], config['context_window'], config['d_model']))\n",
    "# output, attn_weights = layer(batch, return_attn_weights=True)"
   ]
  },
  {
   "cell_type": "code",
   "execution_count": 295,
   "metadata": {},
   "outputs": [
    {
     "data": {
      "text/plain": [
       "tensor([[[-0.1256, -0.5554],\n",
       "         [ 0.4287, -0.5149]]], grad_fn=<DivBackward0>)"
      ]
     },
     "execution_count": 295,
     "metadata": {},
     "output_type": "execute_result"
    }
   ],
   "source": [
    "q = layer.w_q(x)\n",
    "k = layer.w_k(x)\n",
    "q_rotated = (q.transpose(0, 1) @ layer.R[:x.shape[1]]).transpose(0,1)\n",
    "k_rotated = (k.transpose(0, 1) @ layer.R[:x.shape[1]]).transpose(0,1)\n",
    "attn_weights = torch.bmm(q_rotated, k_rotated.transpose(1,2)) / np.sqrt(x.shape[-1])\n",
    "attn_weights"
   ]
  },
  {
   "cell_type": "code",
   "execution_count": 296,
   "metadata": {},
   "outputs": [
    {
     "data": {
      "text/plain": [
       "tensor([[[0.6058, 0.3942],\n",
       "         [0.7198, 0.2802]]], grad_fn=<SoftmaxBackward0>)"
      ]
     },
     "execution_count": 296,
     "metadata": {},
     "output_type": "execute_result"
    }
   ],
   "source": [
    "F.softmax(attn_weights, dim=-1)"
   ]
  },
  {
   "cell_type": "code",
   "execution_count": 310,
   "metadata": {},
   "outputs": [
    {
     "data": {
      "text/plain": [
       "tensor([[[-0.1256, -0.0000],\n",
       "         [ 0.4287, -0.5149]]], grad_fn=<MulBackward0>)"
      ]
     },
     "execution_count": 310,
     "metadata": {},
     "output_type": "execute_result"
    }
   ],
   "source": [
    "attn_weights_mask = torch.bmm(q_rotated, k_rotated.transpose(1,2)) / np.sqrt(x.shape[-1]) * torch.tril(torch.ones(x.shape[1], x.shape[1]), diagonal=0)\n",
    "attn_weights_mask"
   ]
  },
  {
   "cell_type": "code",
   "execution_count": 311,
   "metadata": {},
   "outputs": [
    {
     "data": {
      "text/plain": [
       "tensor([[[0.4686, 0.5314],\n",
       "         [0.7198, 0.2802]]], grad_fn=<SoftmaxBackward0>)"
      ]
     },
     "execution_count": 311,
     "metadata": {},
     "output_type": "execute_result"
    }
   ],
   "source": [
    "F.softmax(attn_weights_mask, dim=-1)"
   ]
  },
  {
   "cell_type": "code",
   "execution_count": 260,
   "metadata": {},
   "outputs": [
    {
     "data": {
      "text/plain": [
       "tensor([[-0.0019,  0.0145,  0.2179,  0.2813],\n",
       "        [ 0.6858,  0.1209, -1.3576,  0.3781]], grad_fn=<SelectBackward0>)"
      ]
     },
     "execution_count": 260,
     "metadata": {},
     "output_type": "execute_result"
    }
   ],
   "source": [
    "q[0]"
   ]
  },
  {
   "cell_type": "code",
   "execution_count": 261,
   "metadata": {},
   "outputs": [
    {
     "data": {
      "text/plain": [
       "tensor([[-0.0019,  0.0145,  0.2179,  0.2813]], grad_fn=<SelectBackward0>)"
      ]
     },
     "execution_count": 261,
     "metadata": {},
     "output_type": "execute_result"
    }
   ],
   "source": [
    "q.transpose(0,1)[0]"
   ]
  },
  {
   "cell_type": "code",
   "execution_count": 262,
   "metadata": {},
   "outputs": [],
   "source": [
    "R = layer.R"
   ]
  },
  {
   "cell_type": "code",
   "execution_count": 263,
   "metadata": {},
   "outputs": [
    {
     "data": {
      "text/plain": [
       "torch.Size([2, 4, 4])"
      ]
     },
     "execution_count": 263,
     "metadata": {},
     "output_type": "execute_result"
    }
   ],
   "source": [
    "R.shape"
   ]
  },
  {
   "cell_type": "code",
   "execution_count": 264,
   "metadata": {},
   "outputs": [],
   "source": [
    "q_t = q.transpose(0, 1)"
   ]
  },
  {
   "cell_type": "code",
   "execution_count": 265,
   "metadata": {},
   "outputs": [
    {
     "data": {
      "text/plain": [
       "torch.Size([2, 1, 4])"
      ]
     },
     "execution_count": 265,
     "metadata": {},
     "output_type": "execute_result"
    }
   ],
   "source": [
    "q_t.shape"
   ]
  },
  {
   "cell_type": "code",
   "execution_count": 331,
   "metadata": {},
   "outputs": [],
   "source": [
    "config.update({\n",
    "    'context_window': 8\n",
    "})"
   ]
  },
  {
   "cell_type": "code",
   "execution_count": 340,
   "metadata": {},
   "outputs": [
    {
     "name": "stdout",
     "output_type": "stream",
     "text": [
      "tensor([[[  9.3683,   6.6750,   4.3582,  -1.6262,  -7.1456,  -7.2565,  -3.4242,\n",
      "           -5.5680],\n",
      "         [  6.7866,  10.4204,  10.0725,   5.1151,  -3.5011,  -5.9123,  -3.0137,\n",
      "           -6.7315],\n",
      "         [  1.1984,   7.1292,   9.8714,   5.6913,  -0.1563,  -0.4732,   1.8345,\n",
      "            0.2070],\n",
      "         [ -0.4119,   3.2403,   5.0140,   9.3683,   6.3752,   0.1276,  -4.7657,\n",
      "           -8.3953],\n",
      "         [ -4.4309,  -3.5957,  -5.4923,   2.8395,  20.8986,  20.6824,   2.4668,\n",
      "           -0.1555],\n",
      "         [ -1.8368,   0.5909,  -0.7377,  -4.3042,   9.7107,  21.2377,  13.5651,\n",
      "           15.1959],\n",
      "         [ -5.6998,   2.1509,   7.7169,   0.6615,  -3.1719,   6.2140,  16.0383,\n",
      "           20.4365],\n",
      "         [-15.7454,  -9.1258,  -1.4626,   3.6300,   5.3789,   9.2522,  13.0918,\n",
      "           20.3480]]], grad_fn=<AddBackward0>)\n",
      "tensor([[[  8.3683,   6.6750,   4.3582,  -1.6262,  -7.1456,  -7.2565,  -3.4242,\n",
      "           -5.5680],\n",
      "         [  5.7866,   9.4204,  10.0725,   5.1151,  -3.5011,  -5.9123,  -3.0137,\n",
      "           -6.7315],\n",
      "         [  0.1984,   6.1292,   8.8714,   5.6913,  -0.1563,  -0.4732,   1.8345,\n",
      "            0.2070],\n",
      "         [ -1.4119,   2.2403,   4.0140,   8.3683,   6.3752,   0.1276,  -4.7657,\n",
      "           -8.3953],\n",
      "         [ -5.4309,  -4.5957,  -6.4923,   1.8395,  19.8986,  20.6824,   2.4668,\n",
      "           -0.1555],\n",
      "         [ -2.8368,  -0.4091,  -1.7377,  -5.3042,   8.7107,  20.2377,  13.5651,\n",
      "           15.1959],\n",
      "         [ -6.6998,   1.1509,   6.7169,  -0.3385,  -4.1719,   5.2140,  15.0383,\n",
      "           20.4365],\n",
      "         [-16.7454, -10.1258,  -2.4626,   2.6300,   4.3789,   8.2522,  12.0918,\n",
      "           19.3480]]], grad_fn=<DivBackward0>)\n"
     ]
    },
    {
     "data": {
      "text/plain": [
       "<matplotlib.colorbar.Colorbar at 0x17ff04350>"
      ]
     },
     "execution_count": 340,
     "metadata": {},
     "output_type": "execute_result"
    },
    {
     "data": {
      "image/png": "[encoded data removed]",
      "text/plain": [
       "<Figure size 640x480 with 2 Axes>"
      ]
     },
     "metadata": {},
     "output_type": "display_data"
    }
   ],
   "source": [
    "layer = RoPEMaskedAttentionHead(config)\n",
    "batch = torch.randint(1, 10, (config['batch_size'], config['context_window'], config['d_model'])).float()\n",
    "output, attn_weights, raw_attn_weights = layer(batch, return_attn_weights=True)\n",
    "\n",
    "plt.imshow(attn_weights[0].detach().numpy())\n",
    "plt.colorbar()"
   ]
  },
  {
   "cell_type": "code",
   "execution_count": 334,
   "metadata": {},
   "outputs": [
    {
     "data": {
      "text/plain": [
       "tensor([[0.2762, 0.1021, 0.0756, 0.1453, 0.0652, 0.0784, 0.1468, 0.1104],\n",
       "        [0.2241, 0.2575, 0.0639, 0.0781, 0.0896, 0.0772, 0.1153, 0.0943],\n",
       "        [0.2057, 0.2146, 0.2036, 0.0803, 0.0705, 0.0700, 0.0797, 0.0756],\n",
       "        [0.1758, 0.2007, 0.1410, 0.1724, 0.0854, 0.0842, 0.0683, 0.0722],\n",
       "        [0.1579, 0.1833, 0.1584, 0.1506, 0.1736, 0.0550, 0.0622, 0.0590],\n",
       "        [0.1818, 0.0903, 0.1736, 0.1413, 0.1182, 0.1434, 0.0832, 0.0682],\n",
       "        [0.1174, 0.2044, 0.1247, 0.1210, 0.1571, 0.1096, 0.1224, 0.0433],\n",
       "        [0.1200, 0.1452, 0.1275, 0.1223, 0.1329, 0.1186, 0.1156, 0.1178]],\n",
       "       grad_fn=<SelectBackward0>)"
      ]
     },
     "execution_count": 334,
     "metadata": {},
     "output_type": "execute_result"
    }
   ],
   "source": [
    "attn_weights[0]"
   ]
  },
  {
   "cell_type": "code",
   "execution_count": 335,
   "metadata": {},
   "outputs": [
    {
     "data": {
      "text/plain": [
       "tensor([[0.1231, 0.1237, 0.0916, 0.1761, 0.0790, 0.0950, 0.1778, 0.1337],\n",
       "        [0.1185, 0.1362, 0.0919, 0.1123, 0.1288, 0.1111, 0.1657, 0.1356],\n",
       "        [0.1250, 0.1303, 0.1237, 0.1326, 0.1165, 0.1155, 0.1316, 0.1248],\n",
       "        [0.1147, 0.1309, 0.0920, 0.1125, 0.1515, 0.1493, 0.1212, 0.1280],\n",
       "        [0.1212, 0.1407, 0.1216, 0.1156, 0.1332, 0.1147, 0.1298, 0.1232],\n",
       "        [0.1443, 0.0717, 0.1377, 0.1122, 0.0938, 0.1138, 0.1794, 0.1471],\n",
       "        [0.1093, 0.1902, 0.1161, 0.1127, 0.1462, 0.1020, 0.1139, 0.1096],\n",
       "        [0.1200, 0.1452, 0.1275, 0.1223, 0.1329, 0.1186, 0.1156, 0.1178]],\n",
       "       grad_fn=<SelectBackward0>)"
      ]
     },
     "execution_count": 335,
     "metadata": {},
     "output_type": "execute_result"
    }
   ],
   "source": [
    "raw_attn_weights[0]"
   ]
  },
  {
   "cell_type": "code",
   "execution_count": 341,
   "metadata": {},
   "outputs": [
    {
     "data": {
      "text/plain": [
       "<matplotlib.colorbar.Colorbar at 0x2a8334350>"
      ]
     },
     "execution_count": 341,
     "metadata": {},
     "output_type": "execute_result"
    },
    {
     "data": {
      "image/png": "[encoded data removed]",
      "text/plain": [
       "<Figure size 640x480 with 2 Axes>"
      ]
     },
     "metadata": {},
     "output_type": "display_data"
    }
   ],
   "source": [
    "plt.imshow(raw_attn_weights[0].detach().numpy())\n",
    "plt.colorbar()"
   ]
  },
  {
   "cell_type": "code",
   "execution_count": 320,
   "metadata": {},
   "outputs": [
    {
     "data": {
      "text/plain": [
       "<matplotlib.colorbar.Colorbar at 0x29e0e4410>"
      ]
     },
     "execution_count": 320,
     "metadata": {},
     "output_type": "execute_result"
    },
    {
     "data": {
      "image/png": "[encoded data removed]",
      "text/plain": [
       "<Figure size 640x480 with 2 Axes>"
      ]
     },
     "metadata": {},
     "output_type": "display_data"
    }
   ],
   "source": [
    "layer = RoPEAttentionHead(MASTER_CONFIG)\n",
    "batch = torch.randn((MASTER_CONFIG['batch_size'], MASTER_CONFIG['context_window'], MASTER_CONFIG['d_model']))\n",
    "output, attn_weights = layer(batch, return_attn_weights=True)\n",
    "\n",
    "plt.imshow(attn_weights[0].detach().numpy())\n",
    "plt.colorbar()"
   ]
  },
  {
   "cell_type": "code",
   "execution_count": 314,
   "metadata": {},
   "outputs": [],
   "source": [
    "class RoPEMultiheadAttention(nn.Module):\n",
    "    def __init__(self, config):\n",
    "        super().__init__()\n",
    "        self.config = config\n",
    "        self.heads = nn.ModuleList([\n",
    "            RoPEMaskedAttentionHead(config) for _ in range(config['n_heads'])\n",
    "        ])\n",
    "        self.linear = nn.Linear(config['d_model']*config['n_heads'], config['d_model'])\n",
    "        self.dropout = nn.Dropout(.1)\n",
    "    \n",
    "    def forward(self, x):\n",
    "        heads = [h(x) for h in self.heads]\n",
    "        x = self.linear(torch.cat(heads, dim=-1))\n",
    "        x = self.dropout(x)\n",
    "        return x"
   ]
  },
  {
   "cell_type": "code",
   "execution_count": 269,
   "metadata": {},
   "outputs": [],
   "source": [
    "config.update({\n",
    "    'n_heads': 8\n",
    "})\n",
    "\n",
    "layer = RoPEMultiheadAttention(config)\n",
    "x = torch.randn(config['batch_size'], config['context_window'], config['d_model'])"
   ]
  },
  {
   "cell_type": "code",
   "execution_count": 271,
   "metadata": {},
   "outputs": [],
   "source": [
    "heads = [h(x) for h in layer.heads]"
   ]
  },
  {
   "cell_type": "code",
   "execution_count": 275,
   "metadata": {},
   "outputs": [
    {
     "data": {
      "text/plain": [
       "torch.Size([1, 2, 32])"
      ]
     },
     "execution_count": 275,
     "metadata": {},
     "output_type": "execute_result"
    }
   ],
   "source": [
    "torch.cat(heads, dim=-1).shape"
   ]
  },
  {
   "cell_type": "code",
   "execution_count": 344,
   "metadata": {},
   "outputs": [
    {
     "name": "stdout",
     "output_type": "stream",
     "text": [
      "model params: 559681\n",
      "Epoch: 0 | val loss: 4.186 | train loss: 4.214 | time 0.023 | ETA in seconds 2.302\n",
      "Epoch: 50 | val loss: 2.588 | train loss: 2.614 | time 1.183 | ETA in seconds 117.159\n",
      "Epoch: 100 | val loss: 2.465 | train loss: 2.401 | time 0.975 | ETA in seconds 95.594\n",
      "Epoch: 150 | val loss: 2.363 | train loss: 2.355 | time 0.976 | ETA in seconds 94.685\n",
      "Epoch: 200 | val loss: 2.341 | train loss: 2.255 | time 1.022 | ETA in seconds 98.158\n",
      "Epoch: 250 | val loss: 2.287 | train loss: 2.207 | time 0.973 | ETA in seconds 92.439\n",
      "Epoch: 300 | val loss: 2.298 | train loss: 2.178 | time 0.972 | ETA in seconds 91.406\n",
      "Epoch: 350 | val loss: 2.229 | train loss: 2.175 | time 0.969 | ETA in seconds 90.071\n",
      "Epoch: 400 | val loss: 2.217 | train loss: 2.158 | time 0.966 | ETA in seconds 88.860\n",
      "Epoch: 450 | val loss: 2.214 | train loss: 2.109 | time 0.964 | ETA in seconds 87.756\n",
      "Epoch: 500 | val loss: 2.196 | train loss: 2.122 | time 0.943 | ETA in seconds 84.869\n",
      "Epoch: 550 | val loss: 2.169 | train loss: 2.120 | time 0.961 | ETA in seconds 85.567\n",
      "Epoch: 600 | val loss: 2.173 | train loss: 2.075 | time 0.964 | ETA in seconds 84.860\n",
      "Epoch: 650 | val loss: 2.142 | train loss: 2.019 | time 0.962 | ETA in seconds 83.662\n",
      "Epoch: 700 | val loss: 2.111 | train loss: 2.028 | time 0.961 | ETA in seconds 82.618\n",
      "Epoch: 750 | val loss: 2.151 | train loss: 2.029 | time 1.019 | ETA in seconds 86.610\n",
      "Epoch: 800 | val loss: 2.159 | train loss: 2.030 | time 0.972 | ETA in seconds 81.610\n",
      "Epoch: 850 | val loss: 2.105 | train loss: 2.061 | time 0.946 | ETA in seconds 78.512\n",
      "Epoch: 900 | val loss: 2.130 | train loss: 2.027 | time 0.959 | ETA in seconds 78.671\n",
      "Epoch: 950 | val loss: 2.116 | train loss: 2.021 | time 0.946 | ETA in seconds 76.604\n",
      "Epoch: 1000 | val loss: 2.101 | train loss: 1.988 | time 0.959 | ETA in seconds 76.751\n",
      "Epoch: 1050 | val loss: 2.151 | train loss: 1.981 | time 0.929 | ETA in seconds 73.403\n",
      "Epoch: 1100 | val loss: 2.120 | train loss: 1.995 | time 0.951 | ETA in seconds 74.154\n",
      "Epoch: 1150 | val loss: 2.073 | train loss: 1.994 | time 0.931 | ETA in seconds 71.712\n",
      "Epoch: 1200 | val loss: 2.122 | train loss: 2.008 | time 0.952 | ETA in seconds 72.360\n",
      "Epoch: 1250 | val loss: 2.055 | train loss: 1.958 | time 1.139 | ETA in seconds 85.414\n",
      "Epoch: 1300 | val loss: 2.080 | train loss: 2.005 | time 0.942 | ETA in seconds 69.688\n",
      "Epoch: 1350 | val loss: 2.081 | train loss: 1.943 | time 0.930 | ETA in seconds 67.857\n",
      "Epoch: 1400 | val loss: 2.105 | train loss: 1.958 | time 0.947 | ETA in seconds 68.189\n",
      "Epoch: 1450 | val loss: 2.050 | train loss: 1.958 | time 0.947 | ETA in seconds 67.216\n",
      "Epoch: 1500 | val loss: 1.994 | train loss: 1.972 | time 0.939 | ETA in seconds 65.710\n",
      "Epoch: 1550 | val loss: 2.061 | train loss: 1.940 | time 0.950 | ETA in seconds 65.571\n",
      "Epoch: 1600 | val loss: 2.029 | train loss: 1.916 | time 0.943 | ETA in seconds 64.138\n",
      "Epoch: 1650 | val loss: 2.022 | train loss: 1.939 | time 0.960 | ETA in seconds 64.305\n",
      "Epoch: 1700 | val loss: 2.058 | train loss: 1.929 | time 0.952 | ETA in seconds 62.850\n",
      "Epoch: 1750 | val loss: 2.057 | train loss: 1.901 | time 1.164 | ETA in seconds 75.653\n",
      "Epoch: 1800 | val loss: 2.044 | train loss: 1.936 | time 0.951 | ETA in seconds 60.843\n",
      "Epoch: 1850 | val loss: 2.006 | train loss: 1.906 | time 0.964 | ETA in seconds 60.747\n",
      "Epoch: 1900 | val loss: 2.023 | train loss: 1.899 | time 0.935 | ETA in seconds 57.957\n",
      "Epoch: 1950 | val loss: 2.000 | train loss: 1.952 | time 0.948 | ETA in seconds 57.824\n",
      "Epoch: 2000 | val loss: 1.970 | train loss: 1.909 | time 0.941 | ETA in seconds 56.461\n",
      "Epoch: 2050 | val loss: 2.006 | train loss: 1.937 | time 1.001 | ETA in seconds 59.054\n",
      "Epoch: 2100 | val loss: 2.010 | train loss: 1.923 | time 0.928 | ETA in seconds 53.819\n",
      "Epoch: 2150 | val loss: 2.006 | train loss: 1.870 | time 0.923 | ETA in seconds 52.612\n",
      "Epoch: 2200 | val loss: 2.029 | train loss: 1.917 | time 0.930 | ETA in seconds 52.099\n",
      "Epoch: 2250 | val loss: 1.963 | train loss: 1.899 | time 0.953 | ETA in seconds 52.395\n",
      "Epoch: 2300 | val loss: 2.000 | train loss: 1.916 | time 0.965 | ETA in seconds 52.110\n",
      "Epoch: 2350 | val loss: 1.925 | train loss: 1.893 | time 0.950 | ETA in seconds 50.335\n",
      "Epoch: 2400 | val loss: 2.010 | train loss: 1.887 | time 0.960 | ETA in seconds 49.909\n",
      "Epoch: 2450 | val loss: 2.023 | train loss: 1.900 | time 0.952 | ETA in seconds 48.564\n",
      "Epoch: 2500 | val loss: 2.003 | train loss: 1.905 | time 0.956 | ETA in seconds 47.797\n",
      "Epoch: 2550 | val loss: 1.937 | train loss: 1.876 | time 1.161 | ETA in seconds 56.896\n",
      "Epoch: 2600 | val loss: 2.027 | train loss: 1.880 | time 1.107 | ETA in seconds 53.154\n",
      "Epoch: 2650 | val loss: 1.992 | train loss: 1.892 | time 1.110 | ETA in seconds 52.179\n",
      "Epoch: 2700 | val loss: 1.987 | train loss: 1.886 | time 1.022 | ETA in seconds 47.035\n",
      "Epoch: 2750 | val loss: 1.976 | train loss: 1.888 | time 0.949 | ETA in seconds 42.692\n",
      "Epoch: 2800 | val loss: 2.000 | train loss: 1.905 | time 0.953 | ETA in seconds 41.950\n",
      "Epoch: 2850 | val loss: 2.009 | train loss: 1.916 | time 0.949 | ETA in seconds 40.815\n",
      "Epoch: 2900 | val loss: 1.929 | train loss: 1.906 | time 0.950 | ETA in seconds 39.900\n",
      "Epoch: 2950 | val loss: 1.987 | train loss: 1.862 | time 0.986 | ETA in seconds 40.433\n",
      "Epoch: 3000 | val loss: 1.977 | train loss: 1.894 | time 1.190 | ETA in seconds 47.616\n",
      "Epoch: 3050 | val loss: 1.976 | train loss: 1.854 | time 0.990 | ETA in seconds 38.613\n",
      "Epoch: 3100 | val loss: 1.983 | train loss: 1.864 | time 0.906 | ETA in seconds 34.420\n",
      "Epoch: 3150 | val loss: 2.012 | train loss: 1.856 | time 0.919 | ETA in seconds 34.010\n",
      "Epoch: 3200 | val loss: 2.004 | train loss: 1.885 | time 0.929 | ETA in seconds 33.434\n",
      "Epoch: 3250 | val loss: 1.995 | train loss: 1.836 | time 0.944 | ETA in seconds 33.048\n",
      "Epoch: 3300 | val loss: 1.968 | train loss: 1.889 | time 0.925 | ETA in seconds 31.460\n",
      "Epoch: 3350 | val loss: 2.006 | train loss: 1.913 | time 0.929 | ETA in seconds 30.647\n",
      "Epoch: 3400 | val loss: 1.987 | train loss: 1.876 | time 0.914 | ETA in seconds 29.244\n",
      "Epoch: 3450 | val loss: 1.971 | train loss: 1.849 | time 0.919 | ETA in seconds 28.478\n",
      "Epoch: 3500 | val loss: 1.944 | train loss: 1.846 | time 0.961 | ETA in seconds 28.830\n",
      "Epoch: 3550 | val loss: 1.983 | train loss: 1.880 | time 0.903 | ETA in seconds 26.194\n",
      "Epoch: 3600 | val loss: 1.968 | train loss: 1.864 | time 0.893 | ETA in seconds 24.998\n",
      "Epoch: 3650 | val loss: 1.973 | train loss: 1.857 | time 0.915 | ETA in seconds 24.696\n",
      "Epoch: 3700 | val loss: 1.900 | train loss: 1.849 | time 0.903 | ETA in seconds 23.470\n",
      "Epoch: 3750 | val loss: 1.937 | train loss: 1.865 | time 0.924 | ETA in seconds 23.099\n",
      "Epoch: 3800 | val loss: 1.942 | train loss: 1.807 | time 0.917 | ETA in seconds 22.013\n",
      "Epoch: 3850 | val loss: 1.962 | train loss: 1.824 | time 0.934 | ETA in seconds 21.473\n",
      "Epoch: 3900 | val loss: 1.932 | train loss: 1.844 | time 0.943 | ETA in seconds 20.745\n",
      "Epoch: 3950 | val loss: 1.951 | train loss: 1.866 | time 0.924 | ETA in seconds 19.397\n",
      "Epoch: 4000 | val loss: 1.961 | train loss: 1.849 | time 0.996 | ETA in seconds 19.928\n",
      "Epoch: 4050 | val loss: 1.906 | train loss: 1.801 | time 0.923 | ETA in seconds 17.536\n",
      "Epoch: 4100 | val loss: 1.960 | train loss: 1.816 | time 0.940 | ETA in seconds 16.912\n",
      "Epoch: 4150 | val loss: 1.943 | train loss: 1.806 | time 0.917 | ETA in seconds 15.587\n",
      "Epoch: 4200 | val loss: 1.908 | train loss: 1.852 | time 0.952 | ETA in seconds 15.227\n",
      "Epoch: 4250 | val loss: 1.911 | train loss: 1.809 | time 0.909 | ETA in seconds 13.633\n",
      "Epoch: 4300 | val loss: 1.976 | train loss: 1.856 | time 0.923 | ETA in seconds 12.928\n",
      "Epoch: 4350 | val loss: 1.966 | train loss: 1.834 | time 0.904 | ETA in seconds 11.758\n",
      "Epoch: 4400 | val loss: 1.935 | train loss: 1.815 | time 0.909 | ETA in seconds 10.904\n",
      "Epoch: 4450 | val loss: 1.962 | train loss: 1.845 | time 0.905 | ETA in seconds 9.954\n",
      "Epoch: 4500 | val loss: 1.996 | train loss: 1.846 | time 0.909 | ETA in seconds 9.095\n",
      "Epoch: 4550 | val loss: 1.909 | train loss: 1.849 | time 1.236 | ETA in seconds 11.122\n",
      "Epoch: 4600 | val loss: 1.949 | train loss: 1.810 | time 1.333 | ETA in seconds 10.665\n",
      "Epoch: 4650 | val loss: 1.927 | train loss: 1.831 | time 1.554 | ETA in seconds 10.878\n",
      "Epoch: 4700 | val loss: 1.967 | train loss: 1.780 | time 1.521 | ETA in seconds 9.124\n",
      "Epoch: 4750 | val loss: 1.976 | train loss: 1.863 | time 1.004 | ETA in seconds 5.022\n",
      "Epoch: 4800 | val loss: 1.936 | train loss: 1.835 | time 0.945 | ETA in seconds 3.781\n",
      "Epoch: 4850 | val loss: 1.957 | train loss: 1.813 | time 0.932 | ETA in seconds 2.797\n",
      "Epoch: 4900 | val loss: 1.933 | train loss: 1.841 | time 0.912 | ETA in seconds 1.823\n",
      "Epoch: 4950 | val loss: 1.918 | train loss: 1.843 | time 0.911 | ETA in seconds 0.911\n",
      "validation loss: 1.9179441452026367\n"
     ]
    },
    {
     "data": {
      "text/plain": [
       "<Axes: >"
      ]
     },
     "execution_count": 344,
     "metadata": {},
     "output_type": "execute_result"
    },
    {
     "data": {
      "image/png": "[encoded data removed]",
      "text/plain": [
       "<Figure size 640x480 with 1 Axes>"
      ]
     },
     "metadata": {},
     "output_type": "display_data"
    }
   ],
   "source": [
    "class RopeModel(nn.Module):\n",
    "    def __init__(self, config):\n",
    "        super().__init__()\n",
    "        self.config = config\n",
    "\n",
    "        self.embedding = nn.Embedding(config['vocab_size'], config['d_model'])\n",
    "        self.rms = RMSNorm((config['context_window'], config['d_model']))\n",
    "        self.rope_attention = RoPEMultiheadAttention(config)\n",
    "\n",
    "        self.linear = nn.Sequential(\n",
    "            nn.Linear(config['d_model'], config['d_model']),\n",
    "            nn.ReLU(),\n",
    "        )\n",
    "\n",
    "        self.last_linear = nn.Linear(config['d_model'], config['vocab_size'])\n",
    "        \n",
    "        print(\"model params:\", sum([m.numel() for m in self.parameters()]))\n",
    "\n",
    "    def forward(self, idx, targets=None):\n",
    "        x = self.embedding(idx)\n",
    "        \n",
    "        # one block of attention\n",
    "        x = self.rms(x) # rms pre-normalization\n",
    "        x = x + self.rope_attention(x)\n",
    "\n",
    "        x = self.rms(x) # rms pre-normalization\n",
    "        x = x + self.linear(x)\n",
    "\n",
    "        logits = self.last_linear(x)\n",
    "\n",
    "        if targets is not None:\n",
    "            loss = F.cross_entropy(logits.view(-1, self.config['vocab_size']), targets.view(-1))\n",
    "            return logits, loss\n",
    "\n",
    "        else:\n",
    "            return logits\n",
    "\n",
    "MASTER_CONFIG.update({\n",
    "    'n_heads': 8,\n",
    "    'epochs': 5000,\n",
    "    'log_interval': 50\n",
    "})\n",
    "\n",
    "model = RopeModel(MASTER_CONFIG)\n",
    "xs, ys = get_one_batch(dataset, 'train', MASTER_CONFIG)\n",
    "\n",
    "logits, loss = model(xs, ys)\n",
    "optimizer = torch.optim.Adam(model.parameters())\n",
    "losses = train(model, optimizer, print_logs=True)\n",
    "losses.plot()"
   ]
  },
  {
   "cell_type": "code",
   "execution_count": 345,
   "metadata": {},
   "outputs": [
    {
     "data": {
      "text/plain": [
       "['\\nBut to his but.\\n\\nPORITY RK:\\nYe a',\n",
       " '\\nHo lime.\\n\\nPERMWIOur morrind; sur',\n",
       " '\\nHold home, I dead noteundes thre',\n",
       " '\\nThe me tend aly sham, leave, as ',\n",
       " '\\n\\nYou go:\\nMy by more, sat ito sha']"
      ]
     },
     "execution_count": 345,
     "metadata": {},
     "output_type": "execute_result"
    }
   ],
   "source": [
    "generate(model, config=MASTER_CONFIG)"
   ]
  },
  {
   "cell_type": "code",
   "execution_count": 289,
   "metadata": {},
   "outputs": [
    {
     "data": {
      "text/plain": [
       "tensor([[[0.5392, 0.4608],\n",
       "         [0.6030, 0.3970]]], grad_fn=<SoftmaxBackward0>)"
      ]
     },
     "execution_count": 289,
     "metadata": {},
     "output_type": "execute_result"
    }
   ],
   "source": [
    "attn_weights"
   ]
  },
  {
   "cell_type": "code",
   "execution_count": null,
   "metadata": {},
   "outputs": [],
   "source": [
    "m = attn_weights.shape[0]\n",
    "attn_mask = torch.tril(torch.ones(m, m), diagonal=0)"
   ]
  },
  {
   "cell_type": "code",
   "execution_count": 346,
   "metadata": {},
   "outputs": [],
   "source": [
    "class LlamaBlock(nn.Module):\n",
    "    def __init__(self, config=MASTER_CONFIG):\n",
    "        super().__init__()\n",
    "        self.config = config\n",
    "        self.rms = RMSNorm((config['context_window'], config['d_model']))\n",
    "        self.attention = RoPEMultiheadAttention(config)\n",
    "        self.ff = nn.Sequential(\n",
    "            nn.Linear(config['d_model'], config['d_model']),\n",
    "            nn.ReLU()\n",
    "        )\n",
    "    \n",
    "    def forward(self, x):\n",
    "        x = self.rms(x)\n",
    "        x = x + self.attention(x)  # residual connection\n",
    "\n",
    "        x = self.rms(x)\n",
    "        x = x + self.ff(x)\n",
    "        return x"
   ]
  },
  {
   "cell_type": "code",
   "execution_count": 353,
   "metadata": {},
   "outputs": [
    {
     "name": "stdout",
     "output_type": "stream",
     "text": [
      "model params: 2205121\n",
      "Epoch: 0 | val loss: 3.920 | train loss: 3.920 | time 0.099 | ETA in seconds 9.874\n",
      "Epoch: 50 | val loss: 2.556 | train loss: 2.571 | time 4.161 | ETA in seconds 411.933\n",
      "Epoch: 100 | val loss: 2.409 | train loss: 2.389 | time 4.163 | ETA in seconds 407.962\n",
      "Epoch: 150 | val loss: 2.323 | train loss: 2.232 | time 4.022 | ETA in seconds 390.112\n",
      "Epoch: 200 | val loss: 2.222 | train loss: 2.208 | time 3.685 | ETA in seconds 353.770\n",
      "Epoch: 250 | val loss: 2.201 | train loss: 2.148 | time 3.731 | ETA in seconds 354.442\n",
      "Epoch: 300 | val loss: 2.194 | train loss: 2.179 | time 3.980 | ETA in seconds 374.143\n",
      "Epoch: 350 | val loss: 2.187 | train loss: 2.090 | time 4.816 | ETA in seconds 447.870\n",
      "Epoch: 400 | val loss: 2.125 | train loss: 2.074 | time 4.354 | ETA in seconds 400.523\n",
      "Epoch: 450 | val loss: 2.124 | train loss: 2.035 | time 3.615 | ETA in seconds 329.001\n",
      "Epoch: 500 | val loss: 2.112 | train loss: 2.009 | time 3.737 | ETA in seconds 336.302\n",
      "Epoch: 550 | val loss: 2.078 | train loss: 1.965 | time 3.895 | ETA in seconds 346.637\n",
      "Epoch: 600 | val loss: 2.074 | train loss: 1.975 | time 3.774 | ETA in seconds 332.122\n",
      "Epoch: 650 | val loss: 2.085 | train loss: 1.949 | time 4.465 | ETA in seconds 388.441\n",
      "Epoch: 700 | val loss: 2.006 | train loss: 1.953 | time 3.685 | ETA in seconds 316.880\n",
      "Epoch: 750 | val loss: 2.064 | train loss: 1.957 | time 4.055 | ETA in seconds 344.642\n",
      "Epoch: 800 | val loss: 2.021 | train loss: 1.926 | time 3.656 | ETA in seconds 307.090\n",
      "Epoch: 850 | val loss: 1.985 | train loss: 1.885 | time 3.684 | ETA in seconds 305.731\n",
      "Epoch: 900 | val loss: 2.020 | train loss: 1.899 | time 3.600 | ETA in seconds 295.161\n",
      "Epoch: 950 | val loss: 2.012 | train loss: 1.922 | time 3.588 | ETA in seconds 290.645\n",
      "Epoch: 1000 | val loss: 1.964 | train loss: 1.960 | time 3.655 | ETA in seconds 292.423\n",
      "Epoch: 1050 | val loss: 1.989 | train loss: 1.860 | time 4.781 | ETA in seconds 377.687\n",
      "Epoch: 1100 | val loss: 1.967 | train loss: 1.847 | time 4.751 | ETA in seconds 370.597\n",
      "Epoch: 1150 | val loss: 1.987 | train loss: 1.855 | time 4.789 | ETA in seconds 368.740\n",
      "Epoch: 1200 | val loss: 2.006 | train loss: 1.857 | time 4.473 | ETA in seconds 339.931\n",
      "Epoch: 1250 | val loss: 1.953 | train loss: 1.838 | time 3.724 | ETA in seconds 279.306\n",
      "Epoch: 1300 | val loss: 1.956 | train loss: 1.881 | time 3.949 | ETA in seconds 292.231\n",
      "Epoch: 1350 | val loss: 1.955 | train loss: 1.848 | time 3.957 | ETA in seconds 288.833\n",
      "Epoch: 1400 | val loss: 1.916 | train loss: 1.823 | time 3.668 | ETA in seconds 264.081\n",
      "Epoch: 1450 | val loss: 1.927 | train loss: 1.867 | time 3.934 | ETA in seconds 279.314\n",
      "Epoch: 1500 | val loss: 2.005 | train loss: 1.838 | time 4.225 | ETA in seconds 295.732\n",
      "Epoch: 1550 | val loss: 1.937 | train loss: 1.819 | time 3.805 | ETA in seconds 262.537\n",
      "Epoch: 1600 | val loss: 1.941 | train loss: 1.864 | time 4.627 | ETA in seconds 314.614\n",
      "Epoch: 1650 | val loss: 1.922 | train loss: 1.786 | time 4.712 | ETA in seconds 315.682\n",
      "Epoch: 1700 | val loss: 1.916 | train loss: 1.830 | time 3.558 | ETA in seconds 234.849\n",
      "Epoch: 1750 | val loss: 1.916 | train loss: 1.805 | time 3.543 | ETA in seconds 230.268\n",
      "Epoch: 1800 | val loss: 1.903 | train loss: 1.770 | time 3.619 | ETA in seconds 231.645\n",
      "Epoch: 1850 | val loss: 1.914 | train loss: 1.841 | time 3.467 | ETA in seconds 218.447\n",
      "Epoch: 1900 | val loss: 1.930 | train loss: 1.803 | time 3.950 | ETA in seconds 244.889\n",
      "Epoch: 1950 | val loss: 1.877 | train loss: 1.828 | time 5.330 | ETA in seconds 325.113\n",
      "Epoch: 2000 | val loss: 1.895 | train loss: 1.800 | time 4.499 | ETA in seconds 269.949\n",
      "Epoch: 2050 | val loss: 1.905 | train loss: 1.790 | time 3.787 | ETA in seconds 223.460\n",
      "Epoch: 2100 | val loss: 1.915 | train loss: 1.815 | time 3.629 | ETA in seconds 210.488\n",
      "Epoch: 2150 | val loss: 1.952 | train loss: 1.795 | time 4.139 | ETA in seconds 235.933\n",
      "Epoch: 2200 | val loss: 1.867 | train loss: 1.796 | time 4.689 | ETA in seconds 262.581\n",
      "Epoch: 2250 | val loss: 1.886 | train loss: 1.803 | time 4.862 | ETA in seconds 267.418\n",
      "Epoch: 2300 | val loss: 1.882 | train loss: 1.784 | time 4.535 | ETA in seconds 244.870\n",
      "Epoch: 2350 | val loss: 1.903 | train loss: 1.787 | time 3.797 | ETA in seconds 201.256\n",
      "Epoch: 2400 | val loss: 1.890 | train loss: 1.781 | time 4.314 | ETA in seconds 224.339\n",
      "Epoch: 2450 | val loss: 1.876 | train loss: 1.722 | time 4.611 | ETA in seconds 235.160\n",
      "Epoch: 2500 | val loss: 1.843 | train loss: 1.753 | time 5.116 | ETA in seconds 255.790\n",
      "Epoch: 2550 | val loss: 1.917 | train loss: 1.762 | time 3.939 | ETA in seconds 193.025\n",
      "Epoch: 2600 | val loss: 1.861 | train loss: 1.757 | time 4.634 | ETA in seconds 222.456\n",
      "Epoch: 2650 | val loss: 1.870 | train loss: 1.788 | time 4.561 | ETA in seconds 214.380\n",
      "Epoch: 2700 | val loss: 1.868 | train loss: 1.718 | time 4.967 | ETA in seconds 228.468\n",
      "Epoch: 2750 | val loss: 1.930 | train loss: 1.725 | time 4.870 | ETA in seconds 219.150\n",
      "Epoch: 2800 | val loss: 1.838 | train loss: 1.710 | time 4.917 | ETA in seconds 216.341\n",
      "Epoch: 2850 | val loss: 1.917 | train loss: 1.754 | time 4.678 | ETA in seconds 201.137\n",
      "Epoch: 2900 | val loss: 1.883 | train loss: 1.736 | time 3.908 | ETA in seconds 164.122\n",
      "Epoch: 2950 | val loss: 1.895 | train loss: 1.725 | time 3.891 | ETA in seconds 159.542\n",
      "Epoch: 3000 | val loss: 1.829 | train loss: 1.716 | time 4.016 | ETA in seconds 160.642\n",
      "Epoch: 3050 | val loss: 1.832 | train loss: 1.717 | time 3.938 | ETA in seconds 153.570\n",
      "Epoch: 3100 | val loss: 1.809 | train loss: 1.757 | time 5.083 | ETA in seconds 193.141\n",
      "Epoch: 3150 | val loss: 1.844 | train loss: 1.728 | time 5.010 | ETA in seconds 185.361\n",
      "Epoch: 3200 | val loss: 1.813 | train loss: 1.746 | time 4.703 | ETA in seconds 169.314\n",
      "Epoch: 3250 | val loss: 1.821 | train loss: 1.760 | time 3.932 | ETA in seconds 137.611\n",
      "Epoch: 3300 | val loss: 1.832 | train loss: 1.751 | time 3.732 | ETA in seconds 126.882\n",
      "Epoch: 3350 | val loss: 1.880 | train loss: 1.723 | time 3.728 | ETA in seconds 123.031\n",
      "Epoch: 3400 | val loss: 1.904 | train loss: 1.722 | time 4.819 | ETA in seconds 154.218\n",
      "Epoch: 3450 | val loss: 1.808 | train loss: 1.690 | time 4.166 | ETA in seconds 129.154\n",
      "Epoch: 3500 | val loss: 1.841 | train loss: 1.715 | time 4.298 | ETA in seconds 128.944\n",
      "Epoch: 3550 | val loss: 1.876 | train loss: 1.706 | time 5.023 | ETA in seconds 145.675\n",
      "Epoch: 3600 | val loss: 1.871 | train loss: 1.716 | time 4.674 | ETA in seconds 130.870\n",
      "Epoch: 3650 | val loss: 1.851 | train loss: 1.752 | time 4.569 | ETA in seconds 123.359\n",
      "Epoch: 3700 | val loss: 1.811 | train loss: 1.711 | time 4.839 | ETA in seconds 125.817\n",
      "Epoch: 3750 | val loss: 1.772 | train loss: 1.715 | time 5.095 | ETA in seconds 127.368\n",
      "Epoch: 3800 | val loss: 1.837 | train loss: 1.703 | time 5.319 | ETA in seconds 127.646\n",
      "Epoch: 3850 | val loss: 1.838 | train loss: 1.700 | time 4.872 | ETA in seconds 112.066\n",
      "Epoch: 3900 | val loss: 1.766 | train loss: 1.686 | time 4.953 | ETA in seconds 108.973\n",
      "Epoch: 3950 | val loss: 1.854 | train loss: 1.715 | time 4.567 | ETA in seconds 95.900\n",
      "Epoch: 4000 | val loss: 1.776 | train loss: 1.692 | time 4.756 | ETA in seconds 95.129\n",
      "Epoch: 4050 | val loss: 1.797 | train loss: 1.691 | time 4.732 | ETA in seconds 89.899\n",
      "Epoch: 4100 | val loss: 1.833 | train loss: 1.688 | time 4.647 | ETA in seconds 83.644\n",
      "Epoch: 4150 | val loss: 1.843 | train loss: 1.685 | time 4.822 | ETA in seconds 81.971\n",
      "Epoch: 4200 | val loss: 1.859 | train loss: 1.695 | time 4.772 | ETA in seconds 76.353\n",
      "Epoch: 4250 | val loss: 1.812 | train loss: 1.643 | time 4.673 | ETA in seconds 70.100\n",
      "Epoch: 4300 | val loss: 1.844 | train loss: 1.696 | time 5.829 | ETA in seconds 81.610\n",
      "Epoch: 4350 | val loss: 1.831 | train loss: 1.709 | time 4.894 | ETA in seconds 63.627\n",
      "Epoch: 4400 | val loss: 1.776 | train loss: 1.701 | time 4.739 | ETA in seconds 56.868\n",
      "Epoch: 4450 | val loss: 1.870 | train loss: 1.677 | time 5.143 | ETA in seconds 56.575\n",
      "Epoch: 4500 | val loss: 1.823 | train loss: 1.668 | time 4.988 | ETA in seconds 49.879\n",
      "Epoch: 4550 | val loss: 1.848 | train loss: 1.692 | time 4.712 | ETA in seconds 42.409\n",
      "Epoch: 4600 | val loss: 1.824 | train loss: 1.756 | time 4.978 | ETA in seconds 39.826\n",
      "Epoch: 4650 | val loss: 1.760 | train loss: 1.652 | time 4.823 | ETA in seconds 33.760\n",
      "Epoch: 4700 | val loss: 1.807 | train loss: 1.700 | time 4.614 | ETA in seconds 27.684\n",
      "Epoch: 4750 | val loss: 1.825 | train loss: 1.639 | time 4.683 | ETA in seconds 23.414\n",
      "Epoch: 4800 | val loss: 1.795 | train loss: 1.674 | time 4.715 | ETA in seconds 18.859\n",
      "Epoch: 4850 | val loss: 1.741 | train loss: 1.704 | time 5.842 | ETA in seconds 17.527\n",
      "Epoch: 4900 | val loss: 1.760 | train loss: 1.696 | time 4.706 | ETA in seconds 9.411\n",
      "Epoch: 4950 | val loss: 1.727 | train loss: 1.649 | time 4.642 | ETA in seconds 4.642\n",
      "validation loss: 1.727229690551758\n"
     ]
    }
   ],
   "source": [
    "from collections import OrderedDict\n",
    "\n",
    "MASTER_CONFIG.update({\n",
    "    'n_layers': 4\n",
    "})\n",
    "\n",
    "class Llama(nn.Module):\n",
    "    def __init__(self, config):\n",
    "        super().__init__()\n",
    "        self.config = config\n",
    "        self.embedding = nn.Embedding(config['vocab_size'], config['d_model'])\n",
    "        self.llama_blocks = nn.Sequential(\n",
    "            OrderedDict([(f\"llama_{i}\", LlamaBlock(config)) for i in range(config['n_layers'])])\n",
    "        )\n",
    "        self.ffn = nn.Sequential(\n",
    "            nn.Linear(config['d_model'], config['d_model']),\n",
    "            nn.ReLU(),\n",
    "            nn.Linear(config['d_model'], config['vocab_size'])\n",
    "        )\n",
    "\n",
    "        print(f\"model params: {sum([n.numel() for n in self.parameters()])}\")\n",
    "    \n",
    "    def forward(self, x, targets=None):\n",
    "        x = self.embedding(x)\n",
    "        x = self.llama_blocks(x)\n",
    "        logits = self.ffn(x)\n",
    "\n",
    "        if targets != None:\n",
    "            loss = F.cross_entropy(logits.view(-1, self.config['vocab_size']), targets.view(-1))\n",
    "            return logits, loss\n",
    "        else:\n",
    "            return logits\n",
    "\n",
    "llama = Llama(MASTER_CONFIG)\n",
    "optimizer = torch.optim.Adam(llama.parameters())\n",
    "losses = train(llama, optimizer, config=MASTER_CONFIG, print_logs=True)"
   ]
  },
  {
   "cell_type": "code",
   "execution_count": 354,
   "metadata": {},
   "outputs": [
    {
     "data": {
      "text/plain": [
       "<Axes: >"
      ]
     },
     "execution_count": 354,
     "metadata": {},
     "output_type": "execute_result"
    },
    {
     "data": {
      "image/png": "[encoded data removed]",
      "text/plain": [
       "<Figure size 640x480 with 1 Axes>"
      ]
     },
     "metadata": {},
     "output_type": "display_data"
    }
   ],
   "source": [
    "losses.plot()"
   ]
  },
  {
   "cell_type": "code",
   "execution_count": 367,
   "metadata": {},
   "outputs": [
    {
     "data": {
      "image/png": "[encoded data removed]",
      "text/plain": [
       "<Figure size 1200x900 with 18 Axes>"
      ]
     },
     "metadata": {},
     "output_type": "display_data"
    }
   ],
   "source": [
    "# get one batch\n",
    "def get_one_batch(data, split, batch_size, context_window):\n",
    "    return None\n",
    "\n",
    "# evaluate loss\n",
    "@torch.no_grad\n",
    "def evaluate_loss(model, n, config=MASTER_CONFIG):\n",
    "    '''\n",
    "    Get train and val loss for X batches, get the average\n",
    "    '''\n",
    "    model.eval()\n",
    "    out = {}\n",
    "    for split in ['train', 'val']:\n",
    "        losses = []\n",
    "        for _ in range(n):\n",
    "            xs, ys = get_one_batch(dataset, split, config['batch_size'], config['context_window'])\n",
    "            _, loss = model(xs, ys)\n",
    "            losses.append(loss.item())\n",
    "        out[split] = np.mean(losses)\n",
    "    model.train()\n",
    "    return out\n",
    "\n",
    "# train\n",
    "def train(model, optimizer, scheduler=None, config=MASTER_CONFIG, print_logs=False):\n",
    "    losses = []\n",
    "    start_time = time.time()\n",
    "    for epoch in config['epochs']:\n",
    "        optimizer.zero_grad()\n",
    "        xs, yx = get_one_batch(dataset, 'train', config['batch_size'], config['context_window'])\n",
    "        logits, loss = model(xs, yx)\n",
    "        loss.backward()\n",
    "        optimizer.step()\n",
    "\n",
    "        if scheduler is not None:\n",
    "            scheduler.step()\n",
    "        \n",
    "        if epoch % config['log_interval'] == 0:\n",
    "            x = evaluate_loss(model, 10, config)\n",
    "            batch_time = time.time() - start_time\n",
    "            losses.append(x)\n",
    "            if print_logs:\n",
    "                print(f\"epoch: {epoch} | val loss: {x['val']:.3f} | train loss: {x['train']:.3f} | time: {batch_time:.3f} | ETA in seconds: {(config['epochs']-epoch)/config['log_interval']*batch_time :.3f}\")\n",
    "                if scheduler:\n",
    "                    print(f\"lr: {scheduler.get_lr()}\")\n",
    "            start_time = time.time()\n",
    "    print(f\"validation loss: {losses[-1]['val']}\")\n",
    "    return pd.DataFrame(losses).plot()\n",
    "\n",
    "# simple model\n",
    "class SimpleModel(nn.Module):\n",
    "    def __init__(self, config):\n",
    "        super().__init__()\n",
    "        self.config = config\n",
    "        self.embedding = nn.Embedding(config['vocab_size'], config['d_model'])\n",
    "        self.linear = nn.Sequential(\n",
    "            nn.Linear(config['d_model'], config['d_model']),\n",
    "            nn.ReLU(),\n",
    "            nn.Linear(config['d_model'], config['vocab_size'])\n",
    "        )\n",
    "\n",
    "        print(f\"model params: {sum([n.numel() for n in self.parameters()])}\")\n",
    "\n",
    "    def forward(self, idx, targets=None):\n",
    "        x = self.embedding(idx)\n",
    "        logits = self.linear(x)\n",
    "\n",
    "        if targets is not None:\n",
    "            loss = F.cross_entropy(logits.view(-1, self.config['vocab_size']), targets.view(-1))\n",
    "            return logits, loss\n",
    "        else:\n",
    "            return logits\n",
    "\n",
    "# get rotary matrix\n",
    "def get_rotary_matrix(seq_len, d_model):\n",
    "    R = torch.zeros((seq_len, d_model, d_model), requires_grad=False)\n",
    "    for position in range(seq_len):\n",
    "        for i in range(d_model // 2):\n",
    "            theta = 10000 ** (-(i-1)*2./d_model)\n",
    "            m_theta = position * theta\n",
    "            R[position, 2*i, 2*i] = np.cos(m_theta)\n",
    "            R[position, 2*i, 2*i+1] = -np.sin(m_theta)\n",
    "            R[position, 2*i+1, 2*i] = np.sin(m_theta)\n",
    "            R[position, 2*i+1, 2*i+1] = np.cos(m_theta)\n",
    "    return R\n",
    "\n",
    "R = get_rotary_matrix(9, 32)\n",
    "\n",
    "fig, ax = plt.subplots(K, K, figsize=(4*K, 3*K))\n",
    "for i in range(K):\n",
    "    for j in range(K):\n",
    "        cax = ax[i,j].imshow(R[i*K+j,:,:].detach().numpy(), interpolation=\"nearest\")\n",
    "        ax[i,j].set_title(f\"Rotation at {i*K+j}\")\n",
    "        plt.colorbar(cax)\n",
    "fig.tight_layout()\n",
    "plt.show()\n",
    "\n",
    "# masked multihead attention\n",
    "\n",
    "\n",
    "\n",
    "# one llama block \n",
    "\n",
    "\n",
    "\n"
   ]
  },
  {
   "cell_type": "code",
   "execution_count": 374,
   "metadata": {},
   "outputs": [
    {
     "name": "stdout",
     "output_type": "stream",
     "text": [
      "model params: 33217\n"
     ]
    }
   ],
   "source": [
    "model = SimpleModel(config=MASTER_CONFIG)\n",
    "idx = torch.randint(0, MASTER_CONFIG['vocab_size'], (MASTER_CONFIG['batch_size'], MASTER_CONFIG['context_window']))\n",
    "logits = model(idx)"
   ]
  },
  {
   "cell_type": "code",
   "execution_count": 376,
   "metadata": {},
   "outputs": [
    {
     "data": {
      "text/plain": [
       "'model_architecture.png'"
      ]
     },
     "execution_count": 376,
     "metadata": {},
     "output_type": "execute_result"
    }
   ],
   "source": [
    "from torchviz import make_dot\n",
    "dot = make_dot(logits, params=dict(model.named_parameters()))\n",
    "dot.render(\"model_architecture\", format=\"png\")\n"
   ]
  },
  {
   "cell_type": "code",
   "execution_count": null,
   "metadata": {},
   "outputs": [],
   "source": []
  }
 ],
 "metadata": {
  "kernelspec": {
   "display_name": ".venv_model",
   "language": "python",
   "name": "python3"
  },
  "language_info": {
   "codemirror_mode": {
    "name": "ipython",
    "version": 3
   },
   "file_extension": ".py",
   "mimetype": "text/x-python",
   "name": "python",
   "nbconvert_exporter": "python",
   "pygments_lexer": "ipython3",
   "version": "3.11.6"
  }
 },
 "nbformat": 4,
 "nbformat_minor": 2
}
